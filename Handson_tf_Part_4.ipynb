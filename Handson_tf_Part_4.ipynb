{
 "cells": [
  {
   "cell_type": "markdown",
   "metadata": {},
   "source": [
    "<hr style=\"height:3px;border:none;color:#333;background-color:#333;\" />\n",
    "<img style=\" float:right; display:inline\" src=https://upload.wikimedia.org/wikipedia/en/7/74/TensorFlow.png width=\"150\" height=\"150\" />\n",
    "\n",
    "### ** Techniques for Deep Learning in TensorFlow ** \n",
    "<br/>\n",
    "<br/>\n",
    "<span style=\"color:#000; font-family: 'Bebas Neue'; font-size: 2.0em;\"> **TensorFlow Hands-on Tutorial** </span>\n",
    "\n",
    "<hr style=\"height:3px;border:none;color:#333;background-color:#333;\" />"
   ]
  },
  {
   "cell_type": "markdown",
   "metadata": {},
   "source": [
    "<span style=\"color:#000; font-family: 'Bebas Neue'; font-size: 2em;\"> **Outline** </span>  \n",
    "<br/>\n",
    "- <span style=\"color:#000; font-family: 'Bebas Neue'; font-size: 1.2em;\"> Clues in TensorFlow </span>  \n",
    "- <span style=\"color:#000; font-family: 'Bebas Neue'; font-size: 1.2em;\"> Convolutional Neural Network (CNN) on Cifar-10\n",
    " </span>  \n",
    "- <span style=\"color:#000; font-family: 'Bebas Neue'; font-size: 1.2em;\"> First Model in TensorFlow </span> \n",
    "- <span style=\"color:#000; font-family: 'Bebas Neue'; font-size: 1.4em;\"> ** Techniques for Deep Learning in TensorFlow ** </span>\n",
    "- <span style=\"color:#000; font-family: 'Bebas Neue'; font-size: 1.2em;\"> Inception V3 </span>\n",
    "- <span style=\"color:#000; font-family: 'Bebas Neue'; font-size: 1.2em;\"> CNN for Text Classification </span>\n",
    "- <span style=\"color:#000; font-family: 'Bebas Neue'; font-size: 1.2em;\"> Hidden Markov Model in TensorFlow </span>\n",
    "- <span style=\"color:#000; font-family: 'Bebas Neue'; font-size: 1.2em;\"> Image Captioning in TensorFlow </span>\n",
    "\n",
    "<br/>\n",
    "<br/>"
   ]
  },
  {
   "cell_type": "markdown",
   "metadata": {
    "collapsed": true
   },
   "source": [
    "<span style=\"color:#000; font-family: 'Bebas Neue'; font-size: 2em;\"> **Complex Models** </span>  \n",
    "<br/>\n",
    "Complicated TensorFlow models can have hundreds of variables\n",
    "\n",
    "** tf.variable_scope(): ** provides simple name-spacing to avoid clashes.  \n",
    "** tf.get_variable(): ** creates/accesses variables from within a variable scope.\n",
    "  \n",
    "Variable scope is a simple type of namespacing that adds prefixes to variable names within scope"
   ]
  },
  {
   "cell_type": "code",
   "execution_count": null,
   "metadata": {
    "collapsed": true
   },
   "outputs": [],
   "source": [
    "with tf.variable_scope(\"foo\"):\n",
    "    with tf.variable_scope(\"bar\"):\n",
    "        v = tf.get_variable(\"v\", [1])\n",
    "assert v.name == \"foo/bar/v:0\"        "
   ]
  },
  {
   "cell_type": "markdown",
   "metadata": {},
   "source": [
    "#### Variable scopes control variable (re)use"
   ]
  },
  {
   "cell_type": "code",
   "execution_count": null,
   "metadata": {
    "collapsed": true
   },
   "outputs": [],
   "source": [
    "with tf.variable_scope(\"foo\"):\n",
    "    v = tf.get_variable(\"v\", [1])\n",
    "    tf.get_variable_scope().reuse_variables()\n",
    "    v1 = tf.get_variable(\"v\", [1])\n",
    "assert v1 == v"
   ]
  },
  {
   "cell_type": "markdown",
   "metadata": {},
   "source": [
    "You’ll need to use reuse_variables() to implement ** Deep Networks **"
   ]
  },
  {
   "cell_type": "markdown",
   "metadata": {},
   "source": [
    "### Understanding get_variable\n",
    "Behavior depends on whether variable reuse enabled"
   ]
  },
  {
   "cell_type": "markdown",
   "metadata": {},
   "source": [
    "** Case 1: reuse set to false **\n",
    "- Create and return new variable"
   ]
  },
  {
   "cell_type": "code",
   "execution_count": null,
   "metadata": {
    "collapsed": true
   },
   "outputs": [],
   "source": [
    "with tf.variable_scope(\"foo\"):\n",
    "    v = tf.get_variable(\"v\", [1])\n",
    "assert v.name == \"foo/v:0\""
   ]
  },
  {
   "cell_type": "markdown",
   "metadata": {},
   "source": [
    "** Case 2: Variable reuse set to true **\n",
    "- Search for existing variable with given name. Raise ValueError if none found"
   ]
  },
  {
   "cell_type": "code",
   "execution_count": null,
   "metadata": {
    "collapsed": false
   },
   "outputs": [],
   "source": [
    "with tf.variable_scope(\"foo\"):\n",
    "    v = tf.get_variable(\"v\", [1])\n",
    "with tf.variable_scope(\"foo\", reuse=True):\n",
    "    v1 = tf.get_variable(\"v\", [1])\n",
    "assert v1 == v    "
   ]
  },
  {
   "cell_type": "markdown",
   "metadata": {},
   "source": [
    "<br/>\n",
    "<br/>\n",
    "\n",
    "\n",
    "<span style=\"color:#000; font-family: 'Bebas Neue'; font-size: 2em;\"> **Save and Restore a model using TensorFlow** </span>  \n",
    "<br/>\n",
    "In Deep Leaning it is crucial to save your trained model including parameters, weight, and Graph."
   ]
  },
  {
   "cell_type": "markdown",
   "metadata": {},
   "source": [
    "### 'Saver' op to save and restore all the variables"
   ]
  },
  {
   "cell_type": "code",
   "execution_count": null,
   "metadata": {
    "collapsed": true
   },
   "outputs": [],
   "source": [
    "saver = tf.train.Saver()\n",
    "save_path = saver.save(sess, model_path)\n",
    "print \"Model saved in file: %s\" % save_path"
   ]
  },
  {
   "cell_type": "code",
   "execution_count": null,
   "metadata": {
    "collapsed": true
   },
   "outputs": [],
   "source": [
    "load_path = saver.restore(sess, model_path)\n",
    "print \"Model restored from file: %s\" % save_path"
   ]
  },
  {
   "cell_type": "markdown",
   "metadata": {},
   "source": [
    "Here is an example of how it works [Link][1]\n",
    "\n",
    "[1]: https://github.com/aymericdamien/TensorFlow-Examples/blob/master/notebooks/4_Utils/save_restore_model.ipynb"
   ]
  },
  {
   "cell_type": "markdown",
   "metadata": {},
   "source": [
    "Go Back to CNN on Cifar-10 and save your trained model and restor it in the for the test session"
   ]
  },
  {
   "cell_type": "code",
   "execution_count": null,
   "metadata": {
    "collapsed": true
   },
   "outputs": [],
   "source": []
  }
 ],
 "metadata": {
  "kernelspec": {
   "display_name": "Python 2",
   "language": "python",
   "name": "python2"
  },
  "language_info": {
   "codemirror_mode": {
    "name": "ipython",
    "version": 2
   },
   "file_extension": ".py",
   "mimetype": "text/x-python",
   "name": "python",
   "nbconvert_exporter": "python",
   "pygments_lexer": "ipython2",
   "version": "2.7.6"
  }
 },
 "nbformat": 4,
 "nbformat_minor": 1
}
