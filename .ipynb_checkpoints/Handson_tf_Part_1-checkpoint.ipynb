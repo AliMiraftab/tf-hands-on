{
 "cells": [
  {
   "cell_type": "markdown",
   "metadata": {},
   "source": [
    "  "
   ]
  },
  {
   "cell_type": "markdown",
   "metadata": {},
   "source": [
    "<hr style=\"height:3px;border:none;color:#333;background-color:#333;\" />\n",
    "<img style=\" float:right; display:inline\" src=https://upload.wikimedia.org/wikipedia/en/7/74/TensorFlow.png width=\"150\" height=\"150\" />\n",
    "\n",
    "### ** Clues in TensorFlow ** \n",
    "<br/>\n",
    "<br/>\n",
    "<span style=\"color:#000; font-family: 'Bebas Neue'; font-size: 2.0em;\"> **TensorFlow Hands-on Tutorial** </span>\n",
    "\n",
    "<hr style=\"height:3px;border:none;color:#333;background-color:#333;\" />"
   ]
  },
  {
   "cell_type": "markdown",
   "metadata": {},
   "source": [
    "<span style=\"color:#000; font-family: 'Bebas Neue'; font-size: 2em;\"> **Outline** </span>  \n",
    "<br/>\n",
    "- <span style=\"color:#000; font-family: 'Bebas Neue'; font-size: 1.4em;\"> ** Clues in TensorFlow ** </span>  \n",
    "- <span style=\"color:#000; font-family: 'Bebas Neue'; font-size: 1.2em;\"> First Model in TensorFlow\n",
    " </span>  \n",
    "- <span style=\"color:#000; font-family: 'Bebas Neue'; font-size: 1.2em;\"> Convolutional Neural Network (CNN) on Cifar-10\n",
    " </span>  \n",
    "- <span style=\"color:#000; font-family: 'Bebas Neue'; font-size: 1.2em;\"> Techniques for Deep Learning in TensorFlow </span>\n",
    "- <span style=\"color:#000; font-family: 'Bebas Neue'; font-size: 1.2em;\"> Inception V3 </span>\n",
    "- <span style=\"color:#000; font-family: 'Bebas Neue'; font-size: 1.2em;\"> CNN for Text Classification </span>\n",
    "- <span style=\"color:#000; font-family: 'Bebas Neue'; font-size: 1.2em;\"> Hidden Markov Model in TensorFlow </span>\n",
    "- <span style=\"color:#000; font-family: 'Bebas Neue'; font-size: 1.2em;\"> Image Captioning in TensorFlow </span>\n",
    "<br/>\n",
    "<br/>"
   ]
  },
  {
   "cell_type": "markdown",
   "metadata": {},
   "source": [
    "<span style=\"color:#000; font-family: 'Bebas Neue'; font-size: 2em;\"> **Clues in TensorFlow** </span>  \n",
    "<br/>\n",
    "<span style=\"color:#000; font-family: 'Bebas Neue'; font-size: 1.4em;\"> **What does TensorFlow actually do?** </span>  \n",
    "\n",
    "TensorFlow provides primitives for defining functions on tensors and automatically computing their derivatives  \n",
    "<br/>\n",
    "<br/>\n",
    "<span style=\"color:#000; font-family: 'Bebas Neue'; font-size: 1.4em;\"> **What is a Tensor?** </span>  \n",
    "\n",
    "Formally, tensors are multilinear maps from vector spaces to the real numbers (***V*** vector space, and ***V* *** dual space)\n",
    "\n",
    "\n",
    "\n",
    "$$ f: V^*\\times ... V^* \\times V \\times ... \\times V \\rightarrow   \\mathbb{\\textbf{R}} $$  \n",
    "\n",
    "A scalar is a tensor $ \\quad f: \\mathbb{\\textbf{R}} \\rightarrow \\mathbb{\\textbf{R}},\\quad f(e_1) = c $  \n",
    "A vector is a tensor $ \\quad f: \\mathbb{\\textbf{R}^n} \\rightarrow \\mathbb{\\textbf{R}},\\quad f(e_i) = v_i $  \n",
    "A matrix is a tensor $ \\quad f:  \\mathbb{\\textbf{R}^n \\times \\textbf{R}^m} \\rightarrow \\mathbb{\\textbf{R}},\\quad f(e_i, e_j) = A_{ij} $\n",
    "\n",
    "Common to have fixed basis, ** so a tensor can be represented as a multidimensional array of numbers. **"
   ]
  },
  {
   "cell_type": "markdown",
   "metadata": {},
   "source": [
    "<span style=\"color:#000; font-family: 'Bebas Neue'; font-size: 1.4em;\"> **TensorFlow Computation Graph** </span>  \n",
    "\n",
    "“TensorFlow programs are usually structured into a construction phase, that assembles a graph, and an execution phase that uses a session to execute ops in the graph.” [TensorFlow docs][1]  \n",
    "\n",
    "All computations add nodes to global default graph [docs][2] \n",
    "\n",
    "Importing TensorFlow the same as other Python Libraries\n",
    "\n",
    "[1]: https://www.tensorflow.org/versions/r0.8/get_started/basic_usage.html\n",
    "[2]: https://www.tensorflow.org/versions/r0.8/api_docs/python/framework.html#Graph"
   ]
  },
  {
   "cell_type": "code",
   "execution_count": null,
   "metadata": {
    "collapsed": true
   },
   "outputs": [],
   "source": [
    "import tensorflow as tf"
   ]
  },
  {
   "cell_type": "markdown",
   "metadata": {},
   "source": [
    "<span style=\"color:#000; font-family: 'Bebas Neue'; font-size: 1.2em;\"> **Phase I:  Construction Phase** </span>  \n",
    "\n",
    "TensorFlow defines a **computation graph** that has no numerical value until evaluated!\n",
    "\n",
    "Here are some clues may be you should use in this phase"
   ]
  },
  {
   "cell_type": "code",
   "execution_count": null,
   "metadata": {
    "collapsed": true
   },
   "outputs": [],
   "source": [
    "constant1 = tf.constant(5.0)\n",
    "constant2 = tf.zeros((2,2)); constant3 = tf.ones((2,2))"
   ]
  },
  {
   "cell_type": "markdown",
   "metadata": {},
   "source": [
    "** Variables **  \n",
    "“When you train a model you use variables to hold and update parameters. Variables are in-memory buffers containing tensors” [TensorFlow docs][1]  \n",
    "\n",
    "[1]: https://www.tensorflow.org/versions/r0.8/how_tos/variables/index.html\n"
   ]
  },
  {
   "cell_type": "code",
   "execution_count": null,
   "metadata": {
    "collapsed": true
   },
   "outputs": [],
   "source": [
    "w1 = tf.Variable(tf.zeros((2,2)), name=\"wights\")\n",
    "w2 = tf.Variable(tf.random_normal((2,2)), name=\"random_wights\")"
   ]
  },
  {
   "cell_type": "markdown",
   "metadata": {},
   "source": [
    "Ubdating Variable"
   ]
  },
  {
   "cell_type": "code",
   "execution_count": null,
   "metadata": {
    "collapsed": true
   },
   "outputs": [],
   "source": [
    "new_w2 = tf.add(w2, w1)\n",
    "w1 = tf.assign(w1, new_w2)"
   ]
  },
  {
   "cell_type": "markdown",
   "metadata": {},
   "source": [
    "Input external data into TensorFlow"
   ]
  },
  {
   "cell_type": "code",
   "execution_count": null,
   "metadata": {
    "collapsed": true
   },
   "outputs": [],
   "source": [
    "a = np.zeros((3,3))\n",
    "ta = tf.convert_to_tensor(a)"
   ]
  },
  {
   "cell_type": "markdown",
   "metadata": {},
   "source": [
    "tf.convert_to_tensor() is convenient, but doesn’t scale."
   ]
  },
  {
   "cell_type": "markdown",
   "metadata": {},
   "source": [
    "tf.placeholder variables scale and ** they dummy nodes that provide entry points for data to computational graph **"
   ]
  },
  {
   "cell_type": "code",
   "execution_count": null,
   "metadata": {
    "collapsed": true
   },
   "outputs": [],
   "source": [
    "input1 = tf.placeholder(tf.float32)\n",
    "input2 = tf.placeholder(tf.float32)\n",
    "output = tf.mul(input1, input2)"
   ]
  },
  {
   "cell_type": "markdown",
   "metadata": {},
   "source": [
    "Some useful functions"
   ]
  },
  {
   "cell_type": "code",
   "execution_count": null,
   "metadata": {
    "collapsed": true
   },
   "outputs": [],
   "source": [
    "a.get_shape()\n",
    "tf.reshape(a, (1,4))\n",
    "tf.reduce_sum(a,reduction_indices=[1])"
   ]
  },
  {
   "cell_type": "markdown",
   "metadata": {},
   "source": [
    "<span style=\"color:#000; font-family: 'Bebas Neue'; font-size: 1.2em;\"> **Phase II: Execution Phase** </span>  \n",
    "\n",
    "“A Session object encapsulates the environment in which Tensor objects are evaluated” [TensorFlow Docs][1]\n",
    "\n",
    "[1]: https://www.tensorflow.org/versions/r0.8/api_docs/python/client.html#Session"
   ]
  },
  {
   "cell_type": "code",
   "execution_count": null,
   "metadata": {
    "collapsed": true
   },
   "outputs": [],
   "source": [
    "a = tf.constant(5.0)\n",
    "b = tf.constant(6.0)\n",
    "c = a * b\n",
    "\n",
    "with tf.Session() as sess:\n",
    "    print(sess.run(c))\n"
   ]
  },
  {
   "cell_type": "markdown",
   "metadata": {},
   "source": [
    "** Two Convenient Syntactics to evaluate the **"
   ]
  },
  {
   "cell_type": "code",
   "execution_count": null,
   "metadata": {
    "collapsed": true
   },
   "outputs": [],
   "source": [
    "tf.InteractiveSession()"
   ]
  },
  {
   "cell_type": "markdown",
   "metadata": {},
   "source": [
    "just convenient syntactic sugar for keeping a default session open in ipython."
   ]
  },
  {
   "cell_type": "code",
   "execution_count": null,
   "metadata": {
    "collapsed": true
   },
   "outputs": [],
   "source": [
    "object.eval()"
   ]
  },
  {
   "cell_type": "markdown",
   "metadata": {},
   "source": [
    "just syntactic sugar for sess.run(object) in the currently active session!"
   ]
  },
  {
   "cell_type": "code",
   "execution_count": null,
   "metadata": {
    "collapsed": true
   },
   "outputs": [],
   "source": [
    "tf.InteractiveSession()\n",
    "c.eval()"
   ]
  },
  {
   "cell_type": "markdown",
   "metadata": {},
   "source": [
    "** Make the input in Execution Phase **"
   ]
  },
  {
   "cell_type": "markdown",
   "metadata": {},
   "source": [
    "A ** feed_dict ** is a python dictionary mapping from tf.\n",
    "placeholder vars (or their names) to data (numpy arrays, lists, etc.)."
   ]
  },
  {
   "cell_type": "code",
   "execution_count": null,
   "metadata": {
    "collapsed": true
   },
   "outputs": [],
   "source": [
    "input1 = tf.placeholder(tf.float32)\n",
    "input2 = tf.placeholder(tf.float32)\n",
    "output = tf.mul(input1, input2)\n",
    "\n",
    "with tf.Session() as sess:\n",
    "    print(sess.run([output], feed_dict={input1:[7.], input2:[2.]}))"
   ]
  },
  {
   "cell_type": "markdown",
   "metadata": {
    "collapsed": true
   },
   "source": [
    "  "
   ]
  },
  {
   "cell_type": "markdown",
   "metadata": {},
   "source": [
    "  "
   ]
  }
 ],
 "metadata": {
  "kernelspec": {
   "display_name": "Python 2",
   "language": "python",
   "name": "python2"
  },
  "language_info": {
   "codemirror_mode": {
    "name": "ipython",
    "version": 2
   },
   "file_extension": ".py",
   "mimetype": "text/x-python",
   "name": "python",
   "nbconvert_exporter": "python",
   "pygments_lexer": "ipython2",
   "version": "2.7.6"
  }
 },
 "nbformat": 4,
 "nbformat_minor": 1
}
