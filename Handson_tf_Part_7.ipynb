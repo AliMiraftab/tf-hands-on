{
 "cells": [
  {
   "cell_type": "markdown",
   "metadata": {},
   "source": [
    "  "
   ]
  },
  {
   "cell_type": "markdown",
   "metadata": {
    "collapsed": true
   },
   "source": [
    "<hr style=\"height:3px;border:none;color:#333;background-color:#333;\" />\n",
    "<img style=\" float:right; display:inline\" src=https://upload.wikimedia.org/wikipedia/en/7/74/TensorFlow.png width=\"150\" height=\"150\" />\n",
    "\n",
    "### ** Hidden Markov Model in TensorFlow ** \n",
    "<br/>\n",
    "<br/>\n",
    "<span style=\"color:#000; font-family: 'Bebas Neue'; font-size: 2.0em;\"> **TensorFlow Hands-on Tutorial** </span>\n",
    "\n",
    "<hr style=\"height:3px;border:none;color:#333;background-color:#333;\" />"
   ]
  },
  {
   "cell_type": "markdown",
   "metadata": {},
   "source": [
    "<span style=\"color:#000; font-family: 'Bebas Neue'; font-size: 2em;\"> **Outline** </span>  \n",
    "<br/>\n",
    "- <span style=\"color:#000; font-family: 'Bebas Neue'; font-size: 1.2em;\"> Clues in TensorFlow </span>  \n",
    "- <span style=\"color:#000; font-family: 'Bebas Neue'; font-size: 1.2em;\"> First Model in TensorFlow </span>  \n",
    "- <span style=\"color:#000; font-family: 'Bebas Neue'; font-size: 1.2em;\"> Convolutional Neural Network (CNN) on Cifar-10 </span>  \n",
    "- <span style=\"color:#000; font-family: 'Bebas Neue'; font-size: 1.2em;\"> Techniques for Deep Learning in TensorFlow </span>\n",
    "- <span style=\"color:#000; font-family: 'Bebas Neue'; font-size: 1.2em;\"> Inception V3 </span>\n",
    "- <span style=\"color:#000; font-family: 'Bebas Neue'; font-size: 1.2em;\"> CNN for Text Classification </span>\n",
    "- <span style=\"color:#000; font-family: 'Bebas Neue'; font-size: 1.4em;\"> ** Hidden Markov Model in TensorFlow ** </span>\n",
    "- <span style=\"color:#000; font-family: 'Bebas Neue'; font-size: 1.2em;\"> Image Captioning in TensorFlow </span>\n",
    "\n",
    "\n",
    "<br/>\n",
    "<br/>"
   ]
  },
  {
   "cell_type": "markdown",
   "metadata": {},
   "source": [
    "<span style=\"color:#000; font-family: 'Bebas Neue'; font-size: 2em;\"> **Hidden Markov Model in TensorFlow** </span>  \n",
    "<br/>\n",
    "\n",
    "\n",
    "The HMM is a sequence model. A sequence model or sequence classifier is a model whose job is to assign a label or class to each unit in a sequence, thus mapping a sequence of observations to a sequence of labels. An HMM is a probabilistic sequence model: given a sequence of units (words, letters, morphemes, sentences, whatever), they compute a probability distribution over possible sequences of labels and choose the best label sequence.  \n",
    "\n",
    "Sequence labeling tasks come up throughout speech and language processing, a fact that isn’t too surprising if we consider that language consists of sequences at many representational levels. [\\[1\\]][1].\n",
    "\n",
    "\n",
    "The code can be find at:  \n",
    "https://github.com/MarvinBertin/HiddenMarkovModel_TensorFlow\n",
    "\n",
    "<img style=\" \" src = https://github.com/MarvinBertin/HiddenMarkovModel_TensorFlow/raw/745e86704605d7928dbb0f34c4ccdfba495cf75c/images/trans2.png width=\"400\" height=\"400\" />\n",
    "\n",
    "<br/>\n",
    "<br/>\n",
    "\n",
    "An example: ** The MusArt Music-Retrieval System ** [\\[2\\]][2]\n",
    "\n",
    "\n",
    "<img style=\" float:middle; display:inline\" src = http://www.dlib.org/dlib/february02/birmingham/fig2A.gif  />\n",
    "\n",
    "\n",
    "\n",
    "\n",
    "\n",
    "\n",
    "[1]: https://web.stanford.edu/~jurafsky/slp3/8.pdf\n",
    "[2]: http://www.dlib.org/dlib/february02/birmingham/birmingham-appendix1.html"
   ]
  },
  {
   "cell_type": "markdown",
   "metadata": {
    "collapsed": true
   },
   "source": [
    "  "
   ]
  },
  {
   "cell_type": "markdown",
   "metadata": {},
   "source": [
    "  "
   ]
  }
 ],
 "metadata": {
  "kernelspec": {
   "display_name": "Python 2",
   "language": "python",
   "name": "python2"
  },
  "language_info": {
   "codemirror_mode": {
    "name": "ipython",
    "version": 2
   },
   "file_extension": ".py",
   "mimetype": "text/x-python",
   "name": "python",
   "nbconvert_exporter": "python",
   "pygments_lexer": "ipython2",
   "version": "2.7.6"
  }
 },
 "nbformat": 4,
 "nbformat_minor": 1
}
