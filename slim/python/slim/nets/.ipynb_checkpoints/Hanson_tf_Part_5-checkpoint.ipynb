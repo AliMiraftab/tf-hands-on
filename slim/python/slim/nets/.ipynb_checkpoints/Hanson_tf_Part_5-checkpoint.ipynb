{
 "cells": [
  {
   "cell_type": "markdown",
   "metadata": {},
   "source": [
    "  "
   ]
  },
  {
   "cell_type": "markdown",
   "metadata": {
    "collapsed": true
   },
   "source": [
    "<hr style=\"height:3px;border:none;color:#333;background-color:#333;\" />\n",
    "<img style=\" float:right; display:inline\" src=https://upload.wikimedia.org/wikipedia/en/7/74/TensorFlow.png width=\"150\" height=\"150\" />\n",
    "\n",
    "### ** Inception V3 ** \n",
    "<br/>\n",
    "<br/>\n",
    "<span style=\"color:#000; font-family: 'Bebas Neue'; font-size: 2.0em;\"> **Hands on Tutorial on TensorFlow** </span>\n",
    "\n",
    "<hr style=\"height:3px;border:none;color:#333;background-color:#333;\" />"
   ]
  },
  {
   "cell_type": "markdown",
   "metadata": {},
   "source": [
    "<span style=\"color:#000; font-family: 'Bebas Neue'; font-size: 2em;\"> **Outline** </span>  \n",
    "<br/>\n",
    "- <span style=\"color:#000; font-family: 'Bebas Neue'; font-size: 1.2em;\"> Clues in TensorFlow </span>  \n",
    "- <span style=\"color:#000; font-family: 'Bebas Neue'; font-size: 1.2em;\"> First Model in TensorFlow </span>  \n",
    "- <span style=\"color:#000; font-family: 'Bebas Neue'; font-size: 1.2em;\"> Convolutional Neural Network (CNN) on Cifar-10 </span>  \n",
    "- <span style=\"color:#000; font-family: 'Bebas Neue'; font-size: 1.2em;\"> Techniques for Deep Learning in TensorFlow </span>\n",
    "- <span style=\"color:#000; font-family: 'Bebas Neue'; font-size: 1.4em;\"> ** Inception V3 ** </span>\n",
    "\n",
    "<br/>\n",
    "<br/>"
   ]
  },
  {
   "cell_type": "markdown",
   "metadata": {},
   "source": [
    "<span style=\"color:#000; font-family: 'Bebas Neue'; font-size: 2em;\"> **Imagenet in TensorFlow** </span>  \n",
    "<br/>\n",
    "\n",
    "One of most succesful Deep Learning Models is ImageNet, it is presented in four version:  \n",
    "      -  Inception v1  \n",
    "      -  Inception v2  \n",
    "      -  Inception v3  \n",
    "      -  Inception v4  \n",
    "In particular, this tutorial demonstrates how to train the Inception v3 architecture as specified in:\n",
    "\n",
    "\" Rethinking the Inception Architecture for Computer Vision \"\n",
    "\n",
    "Christian Szegedy, Vincent Vanhoucke, Sergey Ioffe, Jonathon Shlens, Zbigniew Wojna\n",
    "\n",
    "http://arxiv.org/abs/1512.00567\n",
    "\n",
    "This network achieves 21.2% top-1 and 5.6% top-5 error for single frame evaluation with a computational cost of 5 billion multiply-adds per inference and with using less than 25 million parameters. Below is a visualization of the model architecture [\\[1]][1].\n",
    "\n",
    "[1]: https://github.com/tensorflow/models/tree/master/inception\n",
    "\n",
    "<img style=\" float:middle; display:inline\" src = https://4.bp.blogspot.com/-TMOLlkJBxms/Vt3HQXpE2cI/AAAAAAAAA8E/7X7XRFOY6Xo/s1600/image03.png  />"
   ]
  },
  {
   "cell_type": "markdown",
   "metadata": {},
   "source": [
    "<span style=\"color:#000; font-family: 'Bebas Neue'; font-size: 2em;\"> **TensorFlow-Slim** </span>  \n",
    "<br/>\n",
    "\n",
    "In this implementation TF-Slim is used. TF-Slim is a lightweight library for defining, training and evaluating complex models in TensorFlow. Components of tf-slim can be freely mixed with native tensorflow, as well as other frameworks, such as tf.contrib.learn [TensorFlow-Slim][1]  \n",
    "\n",
    "Usage:\n",
    "\n",
    "[1]: https://github.com/tensorflow/tensorflow/tree/master/tensorflow/contrib/slim"
   ]
  },
  {
   "cell_type": "code",
   "execution_count": null,
   "metadata": {
    "collapsed": true
   },
   "outputs": [],
   "source": [
    "import tensorflow.contrib.slim as slim"
   ]
  },
  {
   "cell_type": "markdown",
   "metadata": {},
   "source": [
    "Please open the ipython files:\n",
    "- Training: inception_v3.ipynb\n",
    "- Test:     inception_v3_test.ipynb "
   ]
  },
  {
   "cell_type": "code",
   "execution_count": null,
   "metadata": {
    "collapsed": true
   },
   "outputs": [],
   "source": []
  }
 ],
 "metadata": {
  "kernelspec": {
   "display_name": "Python 2",
   "language": "python",
   "name": "python2"
  },
  "language_info": {
   "codemirror_mode": {
    "name": "ipython",
    "version": 2
   },
   "file_extension": ".py",
   "mimetype": "text/x-python",
   "name": "python",
   "nbconvert_exporter": "python",
   "pygments_lexer": "ipython2",
   "version": "2.7.6"
  }
 },
 "nbformat": 4,
 "nbformat_minor": 1
}
