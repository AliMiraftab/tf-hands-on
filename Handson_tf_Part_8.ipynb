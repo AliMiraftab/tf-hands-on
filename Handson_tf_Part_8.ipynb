{
 "cells": [
  {
   "cell_type": "markdown",
   "metadata": {},
   "source": [
    "  "
   ]
  },
  {
   "cell_type": "markdown",
   "metadata": {
    "collapsed": true
   },
   "source": [
    "<hr style=\"height:3px;border:none;color:#333;background-color:#333;\" />\n",
    "<img style=\" float:right; display:inline\" src=https://upload.wikimedia.org/wikipedia/en/7/74/TensorFlow.png width=\"150\" height=\"150\" />\n",
    "\n",
    "### ** Hidden Markov Model in TensorFlow ** \n",
    "<br/>\n",
    "<br/>\n",
    "<span style=\"color:#000; font-family: 'Bebas Neue'; font-size: 2.0em;\"> **TensorFlow Hands-on Tutorial** </span>\n",
    "\n",
    "<hr style=\"height:3px;border:none;color:#333;background-color:#333;\" />"
   ]
  },
  {
   "cell_type": "markdown",
   "metadata": {},
   "source": [
    "<span style=\"color:#000; font-family: 'Bebas Neue'; font-size: 2em;\"> **Outline** </span>  \n",
    "<br/>\n",
    "- <span style=\"color:#000; font-family: 'Bebas Neue'; font-size: 1.2em;\"> Clues in TensorFlow </span>  \n",
    "- <span style=\"color:#000; font-family: 'Bebas Neue'; font-size: 1.2em;\"> First Model in TensorFlow </span>  \n",
    "- <span style=\"color:#000; font-family: 'Bebas Neue'; font-size: 1.2em;\"> Convolutional Neural Network (CNN) on Cifar-10 </span>  \n",
    "- <span style=\"color:#000; font-family: 'Bebas Neue'; font-size: 1.2em;\"> Techniques for Deep Learning in TensorFlow </span>\n",
    "- <span style=\"color:#000; font-family: 'Bebas Neue'; font-size: 1.2em;\"> Inception V3 </span>\n",
    "- <span style=\"color:#000; font-family: 'Bebas Neue'; font-size: 1.2em;\"> CNN for Text Classification </span>\n",
    "- <span style=\"color:#000; font-family: 'Bebas Neue'; font-size: 1.2em;\"> Hidden Markov Model in TensorFlow </span>\n",
    "- <span style=\"color:#000; font-family: 'Bebas Neue'; font-size: 1.4em;\"> ** Image Captioning in TensorFlow ** </span>\n",
    "\n",
    "\n",
    "\n",
    "\n",
    "\n",
    "<br/>\n",
    "<br/>"
   ]
  },
  {
   "cell_type": "markdown",
   "metadata": {},
   "source": [
    "<span style=\"color:#000; font-family: 'Bebas Neue'; font-size: 2em;\"> **Image Captioning in TensorFlow** </span>  \n",
    "<br/>\n",
    "\n",
    "\n",
    "Explaining image contents described in the paper:  \n",
    "\n",
    "\"[Show and Tell: Lessons learned from the 2015 MSCOCO Image Captioning Challenge][1]\"\n",
    "Oriol Vinyals, Alexander Toshev, Samy Bengio, Dumitru Erhan.\n",
    "IEEE transactions on pattern analysis and machine intelligence (2016).\n",
    "\n",
    "The code can be find at:  \n",
    "https://github.com/tensorflow/models/tree/master/im2txt\n",
    "\n",
    "<img style=\" \" src = https://github.com/tensorflow/models/raw/master/im2txt/g3doc/show_and_tell_architecture.png width=\"400\" height=\"400\" />\n",
    "\n",
    "<br/>\n",
    "<br/>\n",
    "\n",
    "\n",
    "[1]: https://arxiv.org/pdf/1609.06647v1.pdf"
   ]
  },
  {
   "cell_type": "markdown",
   "metadata": {
    "collapsed": true
   },
   "source": [
    "  "
   ]
  },
  {
   "cell_type": "markdown",
   "metadata": {},
   "source": [
    "  "
   ]
  }
 ],
 "metadata": {
  "kernelspec": {
   "display_name": "Python 2",
   "language": "python",
   "name": "python2"
  },
  "language_info": {
   "codemirror_mode": {
    "name": "ipython",
    "version": 2
   },
   "file_extension": ".py",
   "mimetype": "text/x-python",
   "name": "python",
   "nbconvert_exporter": "python",
   "pygments_lexer": "ipython2",
   "version": "2.7.6"
  }
 },
 "nbformat": 4,
 "nbformat_minor": 1
}
